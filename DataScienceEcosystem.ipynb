{
 "cells": [
  {
   "attachments": {},
   "cell_type": "markdown",
   "id": "4c9c92d0-a567-43db-a525-ee68c7559cf7",
   "metadata": {},
   "source": [
    "# Data Science Tools and Ecosystem"
   ]
  },
  {
   "cell_type": "markdown",
   "id": "13d678db-476e-4905-989d-4125f3c68ea7",
   "metadata": {},
   "source": [
    "## Author\n",
    "\"Your Name\""
   ]
  },
  {
   "cell_type": "markdown",
   "id": "9a254d4b-87a8-4ae4-b36d-cc88be67eb75",
   "metadata": {},
   "source": [
    "In this notebook, Data Science Tools and Ecosystem are summarized."
   ]
  },
  {
   "cell_type": "markdown",
   "id": "8402f32b-960c-40d0-9f66-2383381e1a3d",
   "metadata": {},
   "source": [
    "**Objectives:**\n",
    "- Languages\n",
    "- Libraries\n",
    "- Tools\n",
    "- Python code"
   ]
  },
  {
   "cell_type": "markdown",
   "id": "ae1ba877-51df-4a9f-ab8e-4f9fe32e84f1",
   "metadata": {},
   "source": [
    "Some of the popular languages that Data Scientists use are:\n",
    "1. Python\n",
    "2. R\n",
    "3. C++\n",
    "4. Julia"
   ]
  },
  {
   "cell_type": "markdown",
   "id": "9d4b23e0-8d96-4eb6-b5af-455c1d82e793",
   "metadata": {},
   "source": [
    "Some of the commonly used libraries used by Data Scientists include:\n",
    "1. Pandas\n",
    "2. NumPy\n",
    "3. Matplotlib\n",
    "4. Seaborn\n",
    "5. Plotly\n",
    "6. Scikit-Learn"
   ]
  },
  {
   "cell_type": "markdown",
   "id": "61cb4732-3042-40e7-9ceb-79143a223834",
   "metadata": {},
   "source": [
    "|Data Science Tools|\n",
    "|------------------|\n",
    "|Jupyter Notebook  |\n",
    "|R Studio          |\n",
    "|GitHub            |"
   ]
  },
  {
   "cell_type": "markdown",
   "id": "4ace22dc-d799-4577-b8c6-27662acacab8",
   "metadata": {},
   "source": [
    "### Below are a few examples of evaluating arithmetic expressions in Python"
   ]
  },
  {
   "cell_type": "code",
   "execution_count": 3,
   "id": "1874ec47-2dfe-4893-bd8d-07dd5ffc214b",
   "metadata": {},
   "outputs": [
    {
     "name": "stdout",
     "output_type": "stream",
     "text": [
      "17\n"
     ]
    }
   ],
   "source": [
    "# This a simple arithmetic expression to multiply then add integers\n",
    "print((3*4)+5)"
   ]
  },
  {
   "cell_type": "code",
   "execution_count": 4,
   "id": "7f51a030-5d23-43f7-8837-a3bb54e9e361",
   "metadata": {},
   "outputs": [
    {
     "name": "stdout",
     "output_type": "stream",
     "text": [
      "3.3333333333333335\n"
     ]
    }
   ],
   "source": [
    "# This will convert 200 minutes to hours by dividing by 60\n",
    "print(200/60)"
   ]
  }
 ],
 "metadata": {
  "kernelspec": {
   "display_name": "Python 3 (ipykernel)",
   "language": "python",
   "name": "python3"
  },
  "language_info": {
   "codemirror_mode": {
    "name": "ipython",
    "version": 3
   },
   "file_extension": ".py",
   "mimetype": "text/x-python",
   "name": "python",
   "nbconvert_exporter": "python",
   "pygments_lexer": "ipython3",
   "version": "3.12.8"
  }
 },
 "nbformat": 4,
 "nbformat_minor": 5
}
